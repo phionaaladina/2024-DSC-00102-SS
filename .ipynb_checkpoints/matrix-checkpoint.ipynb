{
 "cells": [
  {
   "cell_type": "markdown",
   "metadata": {},
   "source": [
    "Matrices\n",
    "qn.1"
   ]
  },
  {
   "cell_type": "code",
   "execution_count": 8,
   "metadata": {},
   "outputs": [],
   "source": [
    "#Qn1.a) Add a column to A so that it is invertable.\n",
    "#we import numpy as np\n",
    "import numpy as np\n",
    "#we define orinal 4*3 matrix A\n",
    "A = np.array([[2,2,3],[-2,7,4],[-3,-3,-4],[-8,2,3]])\n",
    "#we define a column to be added to make  it 4*4 matrix \n",
    "new_column = np.array([[1],[0],[0],[0]])\n",
    "#append the new matrix to A to form matrix B\n",
    "B = np.hstack((A,new_column))"
   ]
  },
  {
   "cell_type": "code",
   "execution_count": 9,
   "metadata": {},
   "outputs": [
    {
     "name": "stdout",
     "output_type": "stream",
     "text": [
      "The matrix B is invertable\n"
     ]
    }
   ],
   "source": [
    "#check if B is invertable by calculating the determinant\n",
    "determinant = np.linalg.det(B)\n",
    "if determinant != 0:\n",
    "    print(\"The matrix B is invertable\")\n",
    "else:\n",
    "    print(\" The matrix B is not invertable\")"
   ]
  },
  {
   "cell_type": "code",
   "execution_count": 10,
   "metadata": {},
   "outputs": [
    {
     "name": "stdout",
     "output_type": "stream",
     "text": [
      "matric B\n",
      "[[ 2  2  3  1]\n",
      " [-2  7  4  0]\n",
      " [-3 -3 -4  0]\n",
      " [-8  2  3  0]]\n",
      "determinant of B: -169.0\n"
     ]
    }
   ],
   "source": [
    "#out put the matric  and its determinant\n",
    "print(\"matric B\")\n",
    "print(B)\n",
    "print(\"determinant of B:\",determinant)"
   ]
  },
  {
   "cell_type": "code",
   "execution_count": 11,
   "metadata": {},
   "outputs": [],
   "source": [
    "#b)2. Remove a row from A so that it is invertable\n",
    "# Define your matrix \n",
    "A = np.array([[2,2,3],[-2,7,4],[-3,-3,-4],[-8,2,3]])"
   ]
  },
  {
   "cell_type": "code",
   "execution_count": 12,
   "metadata": {},
   "outputs": [],
   "source": [
    "#remove the first row to test for invertability\n",
    "A_reduced = np.delete(A,0,axis=0)# removing a row 0\n",
    "\n"
   ]
  },
  {
   "cell_type": "code",
   "execution_count": 13,
   "metadata": {},
   "outputs": [],
   "source": [
    "#calculate the determinant\n",
    "determinant = np.linalg.det(A_reduced)"
   ]
  },
  {
   "cell_type": "code",
   "execution_count": 14,
   "metadata": {},
   "outputs": [
    {
     "name": "stdout",
     "output_type": "stream",
     "text": [
      "determinant 169.0\n",
      "The determinant is invertable\n"
     ]
    }
   ],
   "source": [
    "print(\"determinant\",determinant)\n",
    "if determinant != 0:\n",
    "    print(\"The determinant is invertable\")\n",
    "else:\n",
    "    print(\"The determinant is not invertable\")\n"
   ]
  },
  {
   "cell_type": "code",
   "execution_count": 15,
   "metadata": {},
   "outputs": [],
   "source": [
    "#c). Is AA^T invertable?\n",
    "# define matrix A\n",
    "A = np.array([[2,2,3],[-2,7,4],[-3,-3,-4],[-8,2,3]])\n"
   ]
  },
  {
   "cell_type": "code",
   "execution_count": 16,
   "metadata": {},
   "outputs": [],
   "source": [
    "#calculate AA^T\n",
    "A_AT = np.dot(A,A.T)"
   ]
  },
  {
   "cell_type": "code",
   "execution_count": 17,
   "metadata": {},
   "outputs": [
    {
     "name": "stdout",
     "output_type": "stream",
     "text": [
      "Determinant of A_AT is: -5.1884970888279274e-11\n"
     ]
    }
   ],
   "source": [
    "#calculate the determinant to check if AA^T is invertable\n",
    "determinant = np.linalg.det(A_AT)\n",
    "print(\"Determinant of A_AT is:\", determinant)"
   ]
  },
  {
   "cell_type": "code",
   "execution_count": 18,
   "metadata": {},
   "outputs": [
    {
     "name": "stdout",
     "output_type": "stream",
     "text": [
      "A_AT is invertable\n"
     ]
    }
   ],
   "source": [
    "#check if the determinant is non zero\n",
    "if determinant != 0:\n",
    "    print(\"A_AT is invertable\")\n",
    "else:\n",
    "    print(\"A_AT is not invertable\")"
   ]
  },
  {
   "cell_type": "code",
   "execution_count": 19,
   "metadata": {},
   "outputs": [],
   "source": [
    "#d) Is A^TA invertable?\n",
    "#define matrix A\n",
    "A = np.array([[2,2,3],[-2,7,4],[-3,-3,-4],[-8,2,3]])"
   ]
  },
  {
   "cell_type": "code",
   "execution_count": 20,
   "metadata": {},
   "outputs": [],
   "source": [
    "#Calculate A^TA\n",
    "AT_A = np.dot(A.T,A)"
   ]
  },
  {
   "cell_type": "code",
   "execution_count": 21,
   "metadata": {},
   "outputs": [
    {
     "name": "stdout",
     "output_type": "stream",
     "text": [
      "Determinant of A^TA is 45642.00000000001\n"
     ]
    }
   ],
   "source": [
    "#calculate the determinant to check if A^TA is invertable\n",
    "determinant = np.linalg.det(AT_A)\n",
    "print(\"Determinant of A^TA is\",determinant)"
   ]
  },
  {
   "cell_type": "code",
   "execution_count": 22,
   "metadata": {},
   "outputs": [
    {
     "name": "stdout",
     "output_type": "stream",
     "text": [
      "A^TA is invertable\n"
     ]
    }
   ],
   "source": [
    "#check if the determinant is a non-zero\n",
    "if determinant != 0:\n",
    "    print(\"A^TA is invertable\")\n",
    "else:\n",
    "    (\"A^TA is not invertable\")"
   ]
  },
  {
   "cell_type": "code",
   "execution_count": 23,
   "metadata": {},
   "outputs": [],
   "source": [
    "\n",
    "#Qn2) Given an n-darray X = np.array([[25, 2], [5, 26], [3, 7]])\n",
    "#a)Generate its shape\n",
    "import numpy as np"
   ]
  },
  {
   "cell_type": "code",
   "execution_count": 24,
   "metadata": {},
   "outputs": [
    {
     "name": "stdout",
     "output_type": "stream",
     "text": [
      "shape of X (3, 2)\n"
     ]
    }
   ],
   "source": [
    "#a)Generate its shape\n",
    "#given array X\n",
    "X = np.array([[25,2],[5,26],[3,7]])\n",
    "\n",
    "#generating its shape\n",
    "shape_of_X = X.shape\n",
    "print(\"shape of X\",shape_of_X)"
   ]
  },
  {
   "cell_type": "code",
   "execution_count": 25,
   "metadata": {},
   "outputs": [
    {
     "name": "stdout",
     "output_type": "stream",
     "text": [
      "tanspose of X:\n",
      " [[25  5  3]\n",
      " [ 2 26  7]]\n"
     ]
    }
   ],
   "source": [
    "#b). What is the transpose of the array\n",
    "transpose_of_X = X.T\n",
    "print(\"tanspose of X:\\n\",transpose_of_X)"
   ]
  },
  {
   "cell_type": "code",
   "execution_count": 26,
   "metadata": {},
   "outputs": [],
   "source": [
    "#c). Generate a new n-darray of X scaled up by integer 3 (Hint: note that scalars \n",
    "#are applied on each element of a matrix)\n",
    "#Given an array X\n",
    "X = np.array([[25,2],[5,26],[3,7]])\n"
   ]
  },
  {
   "cell_type": "code",
   "execution_count": 27,
   "metadata": {},
   "outputs": [
    {
     "name": "stdout",
     "output_type": "stream",
     "text": [
      "scale of X:\n",
      " [[75  6]\n",
      " [15 78]\n",
      " [ 9 21]]\n"
     ]
    }
   ],
   "source": [
    "#scale up each element by 3\n",
    "scale_of_X = 3*X\n",
    "print(\"scale of X:\\n\",scale_of_X)"
   ]
  },
  {
   "cell_type": "code",
   "execution_count": 28,
   "metadata": {},
   "outputs": [],
   "source": [
    "#d). Generate a new matrix A = ([[3, 4], [5, 6], [7, 8]]). Compute the matrix \n",
    "#multiplication of matrices X and A (note the condition for matrix \n",
    "#multiplication must satisfy a certain rule)\n",
    "#Given matrices\n",
    "X = np.array([[25,2],[5,26],[3,7]])\n",
    "A = np.array([[3,4],[5,6],[7,8]])\n",
    "\n"
   ]
  },
  {
   "cell_type": "code",
   "execution_count": 29,
   "metadata": {},
   "outputs": [
    {
     "name": "stdout",
     "output_type": "stream",
     "text": [
      "The result of X*A_T:\n",
      " [[ 83 137 191]\n",
      " [119 181 243]\n",
      " [ 37  57  77]]\n"
     ]
    }
   ],
   "source": [
    "#Transpose of A to make it compatible for multiplication with X\n",
    "A_T = np.transpose(A)\n",
    "# compute the matrix multiplication of X and A^T\n",
    "result =np.dot(X,A_T)\n",
    "print(\"The result of X*A_T:\\n\", result)"
   ]
  },
  {
   "cell_type": "code",
   "execution_count": 30,
   "metadata": {},
   "outputs": [],
   "source": [
    "#e)"
   ]
  },
  {
   "cell_type": "code",
   "execution_count": 31,
   "metadata": {},
   "outputs": [],
   "source": [
    "#   Qn3.e)\n",
    "import numpy as np"
   ]
  },
  {
   "cell_type": "code",
   "execution_count": 32,
   "metadata": {},
   "outputs": [
    {
     "name": "stdout",
     "output_type": "stream",
     "text": [
      "[25  2  5]\n"
     ]
    }
   ],
   "source": [
    "\n",
    "\n",
    "# 1. Generate a numpy array x from the given entries\n",
    "x = np.array([25, 2, 5])\n",
    "print(x)"
   ]
  },
  {
   "cell_type": "code",
   "execution_count": 33,
   "metadata": {},
   "outputs": [
    {
     "name": "stdout",
     "output_type": "stream",
     "text": [
      "(3,)\n"
     ]
    }
   ],
   "source": [
    "# 2. Get the shape of the array x\n",
    "shape_x = x.shape\n",
    "print(shape_x)"
   ]
  },
  {
   "cell_type": "code",
   "execution_count": 34,
   "metadata": {},
   "outputs": [
    {
     "name": "stdout",
     "output_type": "stream",
     "text": [
      "[25  2  5]\n"
     ]
    }
   ],
   "source": [
    "\n",
    "# 3. Get the transpose of the array x\n",
    "transpose_x = x.T\n",
    "print(transpose_x)"
   ]
  },
  {
   "cell_type": "code",
   "execution_count": 35,
   "metadata": {},
   "outputs": [
    {
     "name": "stdout",
     "output_type": "stream",
     "text": [
      "25.573423705088842\n"
     ]
    }
   ],
   "source": [
    "# 4. Compute the norm of the array x\n",
    "norm_x = np.linalg.norm(x)\n",
    "print(norm_x)"
   ]
  },
  {
   "cell_type": "markdown",
   "metadata": {},
   "source": [
    "PAST PAPER NUMBERS"
   ]
  },
  {
   "cell_type": "code",
   "execution_count": 36,
   "metadata": {},
   "outputs": [],
   "source": [
    "import numpy as np\n",
    "# constract a matrix below\n",
    "matrix = np.array([[1 ,0.2 ,0.5],[0.2 ,1 ,0.8],[0.5, 0.8 ,1]])\n"
   ]
  },
  {
   "cell_type": "code",
   "execution_count": null,
   "metadata": {},
   "outputs": [
    {
     "name": "stdout",
     "output_type": "stream",
     "text": [
      "[[1.  0.2 0.5]\n",
      " [0.2 1.  0.8]\n",
      " [0.5 0.8 1. ]]\n"
     ]
    }
   ],
   "source": [
    "#a)compute the inverse of the matrix(transpose)\n",
    "transpose_matrix = matrix . T\n",
    "print(transpose_matrix)\n"
   ]
  },
  {
   "cell_type": "code",
   "execution_count": null,
   "metadata": {},
   "outputs": [
    {
     "name": "stdout",
     "output_type": "stream",
     "text": [
      "[[ 1.56521739  0.86956522 -1.47826087]\n",
      " [ 0.86956522  3.26086957 -3.04347826]\n",
      " [-1.47826087 -3.04347826  4.17391304]]\n"
     ]
    }
   ],
   "source": [
    "inverse_matrix = np.linalg.inv(transpose_matrix)\n",
    "print(inverse_matrix)"
   ]
  },
  {
   "cell_type": "code",
   "execution_count": 41,
   "metadata": {},
   "outputs": [
    {
     "name": "stdout",
     "output_type": "stream",
     "text": [
      "0.2299999999999999\n"
     ]
    }
   ],
   "source": [
    "#b)compute the determinant of a matrix if possible\n",
    "determinant_matrix = np.linalg.det(matrix)\n",
    "print(determinant_matrix)\n"
   ]
  },
  {
   "cell_type": "code",
   "execution_count": null,
   "metadata": {},
   "outputs": [],
   "source": [
    "#c) Decompose the matrix\n",
    "#import numpy as np\n",
    "from scipy.linalg import lu\n",
    "\n",
    "# Define the matrix\n",
    "matrix = np.array([\n",
    "    [1, 0.2, 0.5],\n",
    "    [0.2, 1, 0.8],\n",
    "    [0.5, 0.8, 1]\n",
    "])\n",
    "\n",
    "# LU Decomposition\n",
    "P, L, U = lu(matrix)\n",
    "\n",
    "print(\"Permutation Matrix (P):\")\n",
    "print(P)\n",
    "\n",
    "print(\"\\nLower Triangular Matrix (L):\")\n",
    "print(L)\n",
    "\n",
    "print(\"\\nUpper Triangular Matrix (U):\")\n",
    "print(U)\n",
    "\n",
    "# Eigenvalue Decomposition\n",
    "eigenvalues, eigenvectors = np.linalg.eig(matrix)\n",
    "\n",
    "print(\"\\nEigenvalues:\")\n",
    "print(eigenvalues)\n",
    "\n",
    "print(\"\\nEigenvectors:\")\n",
    "print(eigenvectors)\n"
   ]
  },
  {
   "cell_type": "code",
   "execution_count": null,
   "metadata": {},
   "outputs": [],
   "source": [
    "#Transform the matrix\n",
    "\n",
    "import numpy as np\n",
    "\n",
    "# Define the matrix\n",
    "matrix = np.array([\n",
    "    [1, 0.2, 0.5],\n",
    "    [0.2, 1, 0.8],\n",
    "    [0.5, 0.8, 1]\n",
    "])\n",
    "\n",
    "# 1. Transpose of the matrix\n",
    "transpose_matrix = matrix.T\n",
    "print(\"Transpose of the Matrix:\")\n",
    "print(transpose_matrix)\n",
    "\n",
    "# 2. Scaling the matrix by a factor of 2\n",
    "scaled_matrix = 2 * matrix\n",
    "print(\"\\nScaled Matrix (by factor of 2):\")\n",
    "print(scaled_matrix)\n",
    "\n",
    "# 3. Matrix Multiplication (matrix dot product with itself)\n",
    "multiplied_matrix = np.dot(matrix, matrix)\n",
    "print(\"\\nMatrix Multiplication (Matrix Dot Product):\")\n",
    "print(multiplied_matrix)\n"
   ]
  },
  {
   "cell_type": "markdown",
   "metadata": {},
   "source": [
    "qn2"
   ]
  },
  {
   "cell_type": "code",
   "execution_count": null,
   "metadata": {},
   "outputs": [
    {
     "name": "stdout",
     "output_type": "stream",
     "text": [
      "Solution (x, y, z): [4.00000000e+00 2.00000000e+00 1.11022302e-16]\n"
     ]
    }
   ],
   "source": [
    "#write a python program to solve three linear equations using matrices.you can use \n",
    "# the numpy librabray for matrix operetions\n",
    "\n",
    "import numpy as np\n",
    "#linear equations below\n",
    "\n",
    "# Step 1: Define the coefficient matrix (A) and the constant matrix (B)\n",
    " # Coefficient matrix\n",
    "A = np.array([[1, 1, 1], \n",
    "              [2, 3, 1], \n",
    "              [4, 1, 2]]) \n",
    "\n",
    "# Constant matrix \n",
    "B = np.array([6, 14, 18])  \n",
    "\n",
    "# Step 2: Solve the system using NumPy's `linalg.solve` method\n",
    "solution = np.linalg.solve(A, B)\n",
    "\n",
    "# Step 3: Print the solution\n",
    "print(\"Solution (x, y, z):\", solution)\n"
   ]
  }
 ],
 "metadata": {
  "kernelspec": {
   "display_name": "Python 3 (ipykernel)",
   "language": "python",
   "name": "python3"
  },
  "language_info": {
   "codemirror_mode": {
    "name": "ipython",
    "version": 3
   },
   "file_extension": ".py",
   "mimetype": "text/x-python",
   "name": "python",
   "nbconvert_exporter": "python",
   "pygments_lexer": "ipython3",
   "version": "3.12.6"
  }
 },
 "nbformat": 4,
 "nbformat_minor": 4
}
