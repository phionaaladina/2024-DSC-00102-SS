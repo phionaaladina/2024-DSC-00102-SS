{
 "cells": [
  {
   "cell_type": "code",
   "execution_count": 1,
   "id": "feacc3c3-6578-44b9-ac9c-403fa3615dcb",
   "metadata": {},
   "outputs": [],
   "source": [
    "import numpy as np"
   ]
  },
  {
   "cell_type": "code",
   "execution_count": 4,
   "id": "93b907ba-18d4-4e9a-9066-967b3403252b",
   "metadata": {},
   "outputs": [
    {
     "name": "stdout",
     "output_type": "stream",
     "text": [
      "[[1.  0.2 0.5]\n",
      " [0.2 1.  0.8]\n",
      " [0.5 0.8 1. ]]\n"
     ]
    }
   ],
   "source": [
    "#contructing the matrix\n",
    "\n",
    "X = np.array([[1, 0.2, 0.5], [0.2, 1, 0.8], [0.5, 0.8, 1]])\n",
    "\n",
    "#printing the matrix\n",
    "print(X)"
   ]
  },
  {
   "cell_type": "markdown",
   "id": "e79ab2b4-21da-4b96-8ddf-67447a985534",
   "metadata": {},
   "source": [
    "### a) Compute an inversion of the matrix(Transpose)"
   ]
  },
  {
   "cell_type": "code",
   "execution_count": 5,
   "id": "239c21b6-e968-4f41-a385-01527b8ea7c5",
   "metadata": {},
   "outputs": [
    {
     "name": "stdout",
     "output_type": "stream",
     "text": [
      "[[1.  0.2 0.5]\n",
      " [0.2 1.  0.8]\n",
      " [0.5 0.8 1. ]]\n"
     ]
    }
   ],
   "source": [
    "# get the transpose of the matrix\n",
    "X_transpose = X.T\n",
    "#print it out\n",
    "print(X_transpose)"
   ]
  },
  {
   "cell_type": "code",
   "execution_count": 6,
   "id": "0525a8cd-0716-4dba-a65b-ddeee536092f",
   "metadata": {},
   "outputs": [
    {
     "name": "stdout",
     "output_type": "stream",
     "text": [
      "[[ 1.56521739  0.86956522 -1.47826087]\n",
      " [ 0.86956522  3.26086957 -3.04347826]\n",
      " [-1.47826087 -3.04347826  4.17391304]]\n"
     ]
    }
   ],
   "source": [
    "#getting the inverse\n",
    "X_inverse = np.linalg.inv(X)\n",
    "print(X_inverse)"
   ]
  },
  {
   "cell_type": "markdown",
   "id": "3a5268a4-80c5-44cf-8eba-bbc9d63b1b4b",
   "metadata": {},
   "source": [
    "### b)compute the determinant of a matrix if possible"
   ]
  },
  {
   "cell_type": "code",
   "execution_count": 7,
   "id": "db1aab34-2282-4a74-b9ad-6503354873f8",
   "metadata": {},
   "outputs": [
    {
     "name": "stdout",
     "output_type": "stream",
     "text": [
      "0.2299999999999999\n"
     ]
    }
   ],
   "source": [
    "#To compute the determinant, the matrix has to be square, hence matrix X is square with same number of rows and columns\n",
    "\n",
    "X_determinant = np.linalg.det(X)\n",
    "\n",
    "print(X_determinant)"
   ]
  },
  {
   "cell_type": "markdown",
   "id": "18f0a1ba-2560-4f0c-a57e-14b245a64d2d",
   "metadata": {},
   "source": [
    "### c) Decompose the matrix"
   ]
  },
  {
   "cell_type": "markdown",
   "id": "7307bf0f-45ae-41bb-b143-721257a65699",
   "metadata": {},
   "source": [
    "### Using LU decomposition"
   ]
  },
  {
   "cell_type": "code",
   "execution_count": 20,
   "id": "556b1944-0052-4455-8de2-19b630b53709",
   "metadata": {},
   "outputs": [],
   "source": [
    "#Matrix X is decomposed into 2 matrices, lower triangular matrix, L nd upper triangular matrix U. \n",
    "import numpy as np\n",
    "from scipy.linalg import lu \n",
    "\n",
    "P, L, U = lu(X)\n",
    "\n"
   ]
  },
  {
   "cell_type": "code",
   "execution_count": 24,
   "id": "5b699913-0b6e-477a-bce5-953817a41023",
   "metadata": {},
   "outputs": [
    {
     "name": "stdout",
     "output_type": "stream",
     "text": [
      "Lower Triangular Matrix\n",
      "[[1.         0.         0.        ]\n",
      " [0.2        1.         0.        ]\n",
      " [0.5        0.72916667 1.        ]]\n"
     ]
    }
   ],
   "source": [
    "print('Lower Triangular Matrix')\n",
    "print()\n",
    "print(L)"
   ]
  },
  {
   "cell_type": "code",
   "execution_count": 28,
   "id": "8216e558-fb98-4e44-9358-58f69bdc007d",
   "metadata": {},
   "outputs": [
    {
     "name": "stdout",
     "output_type": "stream",
     "text": [
      "Permutation matrix\n",
      "\n",
      "[[1. 0. 0.]\n",
      " [0. 1. 0.]\n",
      " [0. 0. 1.]]\n"
     ]
    }
   ],
   "source": [
    "print('Permutation matrix')\n",
    "print()\n",
    "print(P)"
   ]
  },
  {
   "cell_type": "code",
   "execution_count": 29,
   "id": "ed8cd5fa-67e7-4349-9520-3281b859e4ff",
   "metadata": {},
   "outputs": [
    {
     "name": "stdout",
     "output_type": "stream",
     "text": [
      "Upper Triangular Matrix\n",
      "\n",
      "[[1.         0.2        0.5       ]\n",
      " [0.         0.96       0.7       ]\n",
      " [0.         0.         0.23958333]]\n"
     ]
    }
   ],
   "source": [
    "print('Upper Triangular Matrix')\n",
    "print()\n",
    "print(U)"
   ]
  },
  {
   "cell_type": "markdown",
   "id": "30eac165-564f-4bc8-a751-d23c687bfb80",
   "metadata": {},
   "source": [
    "### Pract 3"
   ]
  },
  {
   "cell_type": "code",
   "execution_count": 43,
   "id": "e7c76de0-1861-4a58-b362-5ac0c2365fc6",
   "metadata": {},
   "outputs": [
    {
     "data": {
      "text/plain": [
       "array([ 6,  4,  4, 10,  6,  5,  4,  4,  6,  5,  3,  8,  8,  5,  9,  4,  2,\n",
       "        6,  4,  8,  6, 11,  3,  5,  5,  3,  6,  5,  9,  2,  7,  2,  5,  2,\n",
       "        3,  5,  6,  6,  6,  2,  3,  5,  5,  3,  4, 10,  6,  5,  7,  6,  6,\n",
       "        5,  3,  7,  4,  9,  9,  2,  3,  5,  5,  2,  5,  3,  6,  5,  6,  2,\n",
       "        8,  6,  6,  5, 11, 10,  2,  6,  8,  2,  1,  5,  4,  9,  4,  4,  7,\n",
       "        8,  9,  4,  8,  5,  2,  6,  6,  5,  6,  4,  6,  9,  6,  6,  5,  5,\n",
       "        3,  3,  7,  5,  7,  4,  8,  3, 12,  5,  5,  4,  7,  5,  5,  3,  5,\n",
       "       10,  6,  6,  3,  2,  4,  4,  3,  3,  4,  5,  2,  4,  6,  8,  4,  7,\n",
       "        4,  7,  3,  8,  6,  7,  5,  6,  5,  5,  4,  9,  2,  9,  7,  5,  6,\n",
       "        5,  5,  5,  3,  4,  2,  3,  4,  5,  5,  4,  3,  3,  3,  8,  2,  9,\n",
       "        6,  4,  6,  6,  3,  4,  8,  2,  4,  5,  4,  4,  5,  6,  0,  3,  4,\n",
       "        8,  3,  2,  5,  5,  4,  6,  4,  4,  3,  5,  4,  9,  5,  4,  8,  5,\n",
       "        2, 10,  4,  5,  4,  3,  8,  8,  8,  5,  0,  2,  4,  7,  3,  2,  1,\n",
       "        3,  5,  7,  4,  6,  4,  5,  6,  1,  4,  6,  5,  0,  7,  5,  2,  9,\n",
       "        9, 10,  4,  3,  5,  3,  4,  6,  2,  4,  7,  5,  6, 10,  5,  5,  4,\n",
       "        5, 13,  7,  4,  1,  5,  5,  5,  2,  5,  8,  3,  8,  6,  5,  4,  4,\n",
       "        6,  6,  4,  5,  5,  4,  4,  4,  3,  7,  9,  4,  2,  7,  3,  2,  8,\n",
       "        5,  6,  7,  7,  7,  5,  5,  8,  4,  8,  6,  3,  5,  4,  5,  5,  7,\n",
       "        6,  8,  7,  4,  5,  5,  2,  5,  5,  2,  5,  5,  3,  5,  6,  6,  6,\n",
       "        3,  7,  6,  8,  2,  3,  3,  6,  4, 10,  5,  5,  3, 10,  5,  8,  3,\n",
       "        5,  6,  3,  8,  5,  5,  3,  5,  7,  7,  8,  3,  4,  5,  4,  5,  3,\n",
       "        3,  5,  4,  8,  7,  9,  7,  6,  5,  4, 11,  4,  5,  7,  3,  5,  3,\n",
       "        5,  6,  5,  7,  0,  8,  8,  6,  6,  4,  5,  3,  8,  3,  6,  3,  5,\n",
       "        4,  5,  2,  6,  5,  7,  3,  5,  6,  9,  6,  4,  6,  5,  4, 10,  9,\n",
       "        3, 13,  9,  5,  5,  3,  4, 11,  7,  6,  3,  6,  4,  9,  1,  1,  3,\n",
       "        3,  5,  3,  7,  3,  6,  5,  5,  4,  7,  8,  4,  5,  2,  6,  5,  3,\n",
       "        4,  9,  7,  8,  2,  3,  3,  7,  1,  4,  6,  6,  3,  4,  7,  4,  6,\n",
       "        5,  8,  1,  4,  6,  8,  1,  7,  4,  6,  4,  9,  5,  3,  5,  4,  4,\n",
       "        5,  3,  3,  3,  4,  6,  2,  3,  6,  8,  2,  4,  6,  2,  3,  8,  5,\n",
       "        6,  3,  4, 10,  4,  7,  2,  5,  5,  5,  6,  4,  8,  7,  5,  5,  6,\n",
       "        4,  7,  4,  5,  6,  6,  9,  4,  7,  9,  7,  4,  5,  5, 10,  4,  3,\n",
       "        6,  8,  2,  6,  5,  9,  5,  6,  6,  8,  3,  5,  6,  7,  5,  4,  4,\n",
       "        7,  9,  5,  4, 10,  7,  5,  3,  2,  7,  6,  6,  5,  6,  4,  4,  2,\n",
       "        3,  4,  6,  1,  7,  6,  5,  4,  6,  5,  3,  5,  3,  4,  4,  5,  6,\n",
       "        2,  3,  8,  6,  5,  6,  6,  1,  5,  4,  7,  5,  5,  6,  5,  4,  9,\n",
       "        4,  6,  9,  6,  1,  5,  6,  4,  4,  5,  4,  3,  5,  5,  5, 13,  8,\n",
       "        1, 13,  7,  3,  5,  5,  7,  2,  8,  6,  4,  3,  6,  5,  4,  6,  8,\n",
       "        6,  8,  7,  6,  6,  6,  5,  8,  8,  1,  6,  5,  6,  8,  5,  3,  3,\n",
       "        3, 10, 11,  6,  9,  6,  3,  1,  6,  3,  5,  6,  2,  7,  7,  2,  8,\n",
       "        4,  5,  9,  3,  6,  7,  1,  2,  5,  6,  8,  4,  4,  2,  4,  6,  7,\n",
       "        2,  7,  6,  5,  6,  6,  7,  5,  4,  3,  7,  2,  2,  3,  6,  6,  7,\n",
       "        6,  7,  4,  2,  5,  3,  7,  7,  5,  7,  4,  4,  4,  5,  4,  4,  4,\n",
       "        6,  5,  6,  9,  6,  7,  6,  4,  8,  6,  3,  6, 10,  5,  5,  6,  5,\n",
       "        5,  3,  3,  3,  6,  6,  6,  2,  3,  4,  6,  6,  3,  4,  9,  5,  4,\n",
       "        6,  2,  4,  5, 10,  5,  8,  4,  5,  5,  1,  6,  6,  6,  5,  3,  6,\n",
       "        8,  8,  6,  3,  2,  4,  4,  5,  3,  7,  6,  5,  6,  4,  7,  6,  3,\n",
       "        1,  7,  6,  1,  5,  8,  6,  4,  3,  5,  7,  5, 10,  8,  2,  4,  3,\n",
       "        9,  8,  6, 13,  7,  7,  8,  6,  4,  2,  9,  1,  4,  6,  2,  8,  2,\n",
       "        8,  4,  5,  4,  3,  8,  6,  3,  3,  5,  3,  5,  5,  7,  7,  5,  2,\n",
       "        2,  6,  8,  8,  4,  9,  3,  7,  3,  5,  7,  4,  4,  3,  6,  4,  2,\n",
       "        5,  4,  9,  5,  8,  5,  7,  5,  3,  5,  3,  8,  3,  4,  5,  6,  9,\n",
       "        7,  3,  5,  1,  5,  2,  8,  4,  5,  2,  4,  6,  8,  3,  3,  0,  7,\n",
       "        9,  7,  5,  3,  3,  5,  5,  6,  2,  1,  4,  5,  2,  5, 10,  6,  6,\n",
       "        4,  5,  7,  6,  5,  7,  3,  3,  9,  3,  6,  8,  2,  4,  1,  7,  8,\n",
       "        3,  6,  5,  4,  6,  2,  5,  1,  5,  8,  5,  1,  7,  6,  1,  6,  7,\n",
       "        7,  6,  5,  5,  5,  4,  3,  3,  2,  2,  6,  5, 12,  3,  2,  2,  4,\n",
       "        8,  5,  5,  4,  7,  6,  3,  7,  5,  8,  5,  3,  1,  5,  8,  6,  2,\n",
       "        6,  4,  3,  2,  1,  4,  4,  3,  4,  6,  7,  6,  7,  6,  4,  4,  3,\n",
       "        2,  3,  5,  7,  8,  5,  5,  3,  2, 10,  3,  8,  3,  5],\n",
       "      dtype=int32)"
      ]
     },
     "execution_count": 43,
     "metadata": {},
     "output_type": "execute_result"
    }
   ],
   "source": [
    "import numpy as np\n",
    "\n",
    "# Parameters\n",
    "lambda_rate = 5  # average number of customers per day\n",
    "number_samples = 1000  # number of random samples\n",
    "\n",
    "# Generating random samples from the Poisson distribution\n",
    "poisson_samples = np.random.poisson(lam=lambda_rate, size=number_samples)\n",
    "\n",
    "poisson_samples \n"
   ]
  },
  {
   "cell_type": "markdown",
   "id": "c41abd6f-8184-437c-9e2c-d7108b487af4",
   "metadata": {},
   "source": [
    "### Calculate the mean and variance of the samples\n",
    "\n"
   ]
  },
  {
   "cell_type": "code",
   "execution_count": 44,
   "id": "9120e5fe-7e3c-4fd5-8141-a727138daae5",
   "metadata": {},
   "outputs": [
    {
     "name": "stdout",
     "output_type": "stream",
     "text": [
      "5.127\n"
     ]
    }
   ],
   "source": [
    "# mean of samples\n",
    "mean_samples = np.mean(poisson_samples)\n",
    "print(mean_samples)"
   ]
  },
  {
   "cell_type": "code",
   "execution_count": 45,
   "id": "308b9661-47b8-44b6-8237-4d259d91067b",
   "metadata": {},
   "outputs": [
    {
     "name": "stdout",
     "output_type": "stream",
     "text": [
      "4.7788710000000005\n"
     ]
    }
   ],
   "source": [
    "#variance\n",
    "variance_samples = np.var(poisson_samples)\n",
    "print(variance_samples)"
   ]
  },
  {
   "cell_type": "markdown",
   "id": "b99bf1b7-9325-4a95-afb8-941728f09990",
   "metadata": {},
   "source": [
    "### Histogram to visualise the distribution"
   ]
  },
  {
   "cell_type": "code",
   "execution_count": 46,
   "id": "86aae881-8310-47f5-a4f7-9f71f6e041e2",
   "metadata": {},
   "outputs": [
    {
     "data": {
      "image/png": "[encoded data removed]",
      "text/plain": [
       "<Figure size 800x500 with 1 Axes>"
      ]
     },
     "metadata": {},
     "output_type": "display_data"
    }
   ],
   "source": [
    "import matplotlib.pyplot as plt\n",
    "\n",
    "# Plot a histogram of the Poisson samples\n",
    "plt.figure(figsize=(8, 5))\n",
    "plt.hist(poisson_samples, bins=range(min(poisson_samples), max(poisson_samples) + 2), color='skyblue', edgecolor='black')\n",
    "plt.title('Histogram of Poisson-Distributed Samples')\n",
    "plt.xlabel('Number of Customer Arrivals')\n",
    "plt.ylabel('Frequency')\n",
    "plt.grid(axis='y')\n",
    "plt.show()\n",
    "\n"
   ]
  },
  {
   "cell_type": "code",
   "execution_count": null,
   "id": "fd973c0b-a4f4-447a-832b-ef54b3f68c29",
   "metadata": {},
   "outputs": [],
   "source": []
  }
 ],
 "metadata": {
  "kernelspec": {
   "display_name": "Python 3 (ipykernel)",
   "language": "python",
   "name": "python3"
  },
  "language_info": {
   "codemirror_mode": {
    "name": "ipython",
    "version": 3
   },
   "file_extension": ".py",
   "mimetype": "text/x-python",
   "name": "python",
   "nbconvert_exporter": "python",
   "pygments_lexer": "ipython3",
   "version": "3.12.6"
  }
 },
 "nbformat": 4,
 "nbformat_minor": 5
}
