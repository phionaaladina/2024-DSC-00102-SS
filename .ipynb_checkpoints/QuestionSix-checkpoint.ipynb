{
 "cells": [
  {
   "cell_type": "code",
   "execution_count": 29,
   "id": "4608202b-a8c5-4d8d-81e6-8a21b2964801",
   "metadata": {},
   "outputs": [
    {
     "name": "stdout",
     "output_type": "stream",
     "text": [
      "[ 7  7  5  5  4  5  6  7  4  4  0  6  4  3  9  4  5  5  4  3  7  7  1  5\n",
      "  4  7  5  5  6  4  5  1  2  5  7  3  4  8  7  2  5  2  6  3  7  5  3  6\n",
      "  7  6  4  1  2  2  5 10  5  5  5  7  7  3  5  3  5  5  6  5  5  4  1  4\n",
      "  5  1  3 10 10  2  7  4  3  7  4  2  5  5  4  5  7  6  6  7  7  6  8  6\n",
      "  7  3  2  7  1  4  5  1  4  4  6  3  5  6  5  8  8  4  8  6  8  4  3  5\n",
      "  8  6  8  3  7  8  4  5  4  5  6  3  5  7  2  4  7 11  6  5  3  5  2  7\n",
      "  4  3  5  5  1  8  5  5  3  5  4  4  5  6  1  1  6  2  3  4  5  4  6  4\n",
      "  5  4  4  8  3  4  2 12  7  3  4  9  3  3  4  4  2  6  2  8  5  9  5  3\n",
      "  4  7  7  6  8  7  7  5  2  7  5  7  3  5  5 10 10  6  5  3  7 11  3  5\n",
      "  7  4  4  7  6  4  6  6  4  3  6  9  2 10  5  6  4  1  5  1  3  4  7  4\n",
      "  6  8  4  6  4  7  4  1  4  7  3  3  1  5  7  6  4  7  6  8  6  4  8  5\n",
      "  5  2  5  8  3  7  7  3  5  4  2  5  4  3  6  7  5  5  6  5  7  5  5 11\n",
      "  4  5  3  8  6  3  8  5  2  3  6  4  6  8  0  6  9  6  6  1  5  9  3  2\n",
      "  3  3  2  3  5  4  5  3  5  5  5  6  3  2  6  6  5  8  5  3  5  4 10  5\n",
      "  5  4  3  2  6  4  5  2  4  6  3  7  5  6  7  8  6  3  7  4  3  3  4  3\n",
      "  4  2  4 10  5  6  6  3  7  5  8  5  4  4  4 12  7  6  7  4  4  5  4  6\n",
      " 11  3  6 11  6  8  5 10  6  5  2  2  6  9  4  6  7  9  2  4  2  2  4  3\n",
      "  6  4  2  4  8  7  7  7  6  6  4  7  3  7  5  8  5  5  2  3  5  8  4  6\n",
      "  4  2  5  3  5  3  6  5  2  4  6  7  4  5  7  5  3  3  6  8  6  4  5  7\n",
      "  6  6  7  3  5  4  2  6  9  3  2  4  9  7  5  4  4  6  2  2  6  5  6  7\n",
      "  2  6  3  7  2  3  6  2  6  4  3  7  4  5  4  3  7  3  5  5  6  6  3  6\n",
      "  3  5  2  3  8  3  3  5  6 10  6  5  5  6  3  2  5  6  8  3  4  3  5  8\n",
      "  2  5  6  9  4  3  5  5  7  5  4  3  7  4  8  5  2  8  4  5  8  5  2  2\n",
      "  6  6  5  3  6  6  7  4  5  2  3  7  2  5  5  3  5  3  5  6  5  6  7  6\n",
      " 10  5  7  4  6  7  5  7  6  7  6  3  3 10  1  5  5  7  2  4  1  6  4  8\n",
      "  5  9 10  5  8  3  6  3  5  7  5  4  2  5  6  2  7  2  4  4  4  5  5  7\n",
      "  7  3  3  4  3  8  6  6  5  5  5  9  2  7  3  1  7  9  4  5  9  8  7  4\n",
      "  4  4  8  9  6  3  6  7  2  2  5  3  4  7  4  4  6  3  6  2  6  7  4  8\n",
      "  6  5  6  3  1  5  5  3  5  7  6  4  0  6  2  5  6  6  7  3  6  4  4  5\n",
      "  8  4 11  3  5  6  7  2  8  5  8  6  4  2  3  5  5  5  5 10  3  6  8  8\n",
      "  3  4  4 12  3  8  2  6  1  4  3  7  6  7  4  6  4  3  7  2  7  3  9  4\n",
      "  3  4  9  3  7  5  3  7  4  6  5  8  2  8  4  5  5  5  1  5  4  3  7  5\n",
      "  4  5  6  3  1  3  3  5  2  4  5  5  5  5  3  4  4  6  4  6  2  4  6  5\n",
      "  4  4  2  5  1  4  6  5  7  2  7  5  3  3  1  5  4  2  9  7  2  3  5  3\n",
      "  8  4  8  5  0  6  5  4  2  5  1  3  8  7  2  5  4  6  6  8  4  8  2  1\n",
      "  5  7  5  5  4  2  6  3  7  5  8  5  5  5  4  6  5  4  5  6  4  4  9  4\n",
      "  6  4  5  3  5  6  3  6  5 11  2  5  3  5  6  5  5  5  5  4 10  6  7  5\n",
      "  1  2  8  5  4  7  2  4  5  3  7  5  3  3  7  4  4  3  5  5 12 10  4  8\n",
      "  6  7  5  3 10  4  6  6  5  3  5  6  7  3  3  3  6  3  2  1  2  5  5  8\n",
      "  7  5  6  6  9  6  8  5  5  4  7  7  7  8  6  2  6  4  4  7 11  4  3  3\n",
      "  3  5  3  6  6  7  5  3  2  3  5  3  6  0  2  6  3  5  7 11  5  7  6  3\n",
      " 11  6  7  3  4  6  6  1  6  2  9  6  4  8  3  2]\n"
     ]
    }
   ],
   "source": [
    "from numpy import random\n",
    "\n",
    "# Parameters\n",
    "lam = 5  # average number of customers per day,\n",
    "size = 1000  # number of random samples\n",
    "\n",
    "# Generating random samples from the Poisson distribution\n",
    "poisson_data = random.poisson(lam=5, size= 1000)\n",
    "\n",
    "print(poisson_data) #displaying the data\n",
    "\n"
   ]
  },
  {
   "cell_type": "code",
   "execution_count": null,
   "id": "97814dbb-484f-47b9-9e8e-b94724cfc584",
   "metadata": {},
   "outputs": [],
   "source": []
  },
  {
   "cell_type": "markdown",
   "id": "d407bafc-1a4c-471b-ba83-4ed1207be4fd",
   "metadata": {},
   "source": [
    "### ii)Calculate the mean and variance of the samples"
   ]
  },
  {
   "cell_type": "code",
   "execution_count": 30,
   "id": "707c0630-a9e7-4b3c-88f8-3348ce144808",
   "metadata": {},
   "outputs": [
    {
     "name": "stdout",
     "output_type": "stream",
     "text": [
      "4.996\n"
     ]
    }
   ],
   "source": [
    "# mean of samples\n",
    "mean_samples = np.mean(poisson_data)\n",
    "print(mean_samples)"
   ]
  },
  {
   "cell_type": "code",
   "execution_count": 31,
   "id": "b2f0b6b1-28e8-4565-922e-a3dce2efb9cc",
   "metadata": {},
   "outputs": [
    {
     "name": "stdout",
     "output_type": "stream",
     "text": [
      "4.529984000000001\n"
     ]
    }
   ],
   "source": [
    "#variance\n",
    "variance_samples = np.var(poisson_data)\n",
    "print(variance_samples)"
   ]
  },
  {
   "cell_type": "markdown",
   "id": "7e346b10-8d10-4eb9-b08b-6316b4cd79c5",
   "metadata": {},
   "source": [
    "### iii)Plot a histogram of the Poisson samples to visualise the distribution"
   ]
  },
  {
   "cell_type": "code",
   "execution_count": 32,
   "id": "a2158fbe-dbe1-41b9-b408-ac51f2869bf8",
   "metadata": {},
   "outputs": [],
   "source": [
    "#importing libraries\n",
    "import matplotlib.pyplot as plt #import the matplotlib library\n",
    "import seaborn as sns # import the seaborn library\n"
   ]
  },
  {
   "cell_type": "code",
   "execution_count": 34,
   "id": "29fd1766-7b60-47b5-8245-c53b7595651b",
   "metadata": {},
   "outputs": [
    {
     "data": {
      "image/png": "[encoded data removed]",
      "text/plain": [
       "<Figure size 1000x500 with 1 Axes>"
      ]
     },
     "metadata": {},
     "output_type": "display_data"
    }
   ],
   "source": [
    "plt.figure(figsize=(10, 5))  # size of figure\n",
    "sns.histplot(poisson_data, bins=10, kde=False, color='green')\n",
    "plt.title(\"Histogram of Poisson Distribution of Samples\")\n",
    "plt.xlabel(\"Number of Customer Arrivals\")\n",
    "plt.ylabel(\"Frequency\")\n",
    "plt.grid(axis='y')  #grid along the y axis\n",
    "plt.show()"
   ]
  },
  {
   "cell_type": "code",
   "execution_count": null,
   "id": "aad07472-d2ef-463c-bbfb-63bbe070ea90",
   "metadata": {},
   "outputs": [],
   "source": []
  }
 ],
 "metadata": {
  "kernelspec": {
   "display_name": "Python 3 (ipykernel)",
   "language": "python",
   "name": "python3"
  },
  "language_info": {
   "codemirror_mode": {
    "name": "ipython",
    "version": 3
   },
   "file_extension": ".py",
   "mimetype": "text/x-python",
   "name": "python",
   "nbconvert_exporter": "python",
   "pygments_lexer": "ipython3",
   "version": "3.12.6"
  }
 },
 "nbformat": 4,
 "nbformat_minor": 5
}
