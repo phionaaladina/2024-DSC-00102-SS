{
 "cells": [
  {
   "cell_type": "code",
   "execution_count": 29,
   "id": "fa8adba1-1ea0-4d2c-b9e8-b4ccfc3d8606",
   "metadata": {},
   "outputs": [],
   "source": [
    "# importing numpy library\n",
    "import numpy as np"
   ]
  },
  {
   "cell_type": "code",
   "execution_count": 30,
   "id": "f036cbcb-975c-408f-88df-486e3ad7e4a5",
   "metadata": {},
   "outputs": [
    {
     "name": "stdout",
     "output_type": "stream",
     "text": [
      "[[1.  0.2 0.5]\n",
      " [0.2 1.  0.8]\n",
      " [0.5 0.8 1. ]]\n"
     ]
    }
   ],
   "source": [
    "#contructing the matrix\n",
    "\n",
    "X = np.array([[1, 0.2, 0.5], [0.2, 1, 0.8], [0.5, 0.8, 1]])\n",
    "\n",
    "#printing the matrix\n",
    "print(X)"
   ]
  },
  {
   "cell_type": "code",
   "execution_count": null,
   "id": "a516bec6-cae8-440c-a228-3f8e40d1dfd1",
   "metadata": {},
   "outputs": [],
   "source": []
  },
  {
   "cell_type": "markdown",
   "id": "1489a3a5-0eeb-4ca2-b5ed-f9130ff1cf00",
   "metadata": {},
   "source": [
    "### i) Compute an inversion of the matrix(Transpose)¶"
   ]
  },
  {
   "cell_type": "code",
   "execution_count": 31,
   "id": "00e69fa7-28c3-4c18-9512-b82ffdb7aad0",
   "metadata": {},
   "outputs": [
    {
     "name": "stdout",
     "output_type": "stream",
     "text": [
      "[[1.  0.2 0.5]\n",
      " [0.2 1.  0.8]\n",
      " [0.5 0.8 1. ]]\n"
     ]
    }
   ],
   "source": [
    "# get the transpose of the matrix\n",
    "X_transpose = X.T\n",
    "#print it out\n",
    "print(X_transpose)"
   ]
  },
  {
   "cell_type": "code",
   "execution_count": 32,
   "id": "76ddf1a0-0993-4fe1-81a9-6bef487639a3",
   "metadata": {},
   "outputs": [
    {
     "name": "stdout",
     "output_type": "stream",
     "text": [
      "[[ 1.56521739  0.86956522 -1.47826087]\n",
      " [ 0.86956522  3.26086957 -3.04347826]\n",
      " [-1.47826087 -3.04347826  4.17391304]]\n"
     ]
    }
   ],
   "source": [
    "#getting the inverse\n",
    "X_inverse = np.linalg.inv(X)\n",
    "print(X_inverse)"
   ]
  },
  {
   "cell_type": "markdown",
   "id": "8b7bd213-38c5-44da-a142-7b0e7008f510",
   "metadata": {},
   "source": []
  },
  {
   "cell_type": "markdown",
   "id": "4ccae5c3-d7a2-437b-a14f-0931f78497ba",
   "metadata": {},
   "source": [
    "### ii)compute the determinant of a matrix if possible¶"
   ]
  },
  {
   "cell_type": "code",
   "execution_count": 33,
   "id": "b0debe18-f758-4c09-8c46-f704898cead1",
   "metadata": {},
   "outputs": [
    {
     "name": "stdout",
     "output_type": "stream",
     "text": [
      "0.2299999999999999\n"
     ]
    }
   ],
   "source": [
    "#To compute the determinant, the matrix has to be square, hence matrix X is square with same number of rows and columns\n",
    "\n",
    "X_determinant = np.linalg.det(X)\n",
    "\n",
    "print(X_determinant)"
   ]
  },
  {
   "cell_type": "markdown",
   "id": "36d13d7d-e4ea-4c66-9947-4251627011ef",
   "metadata": {},
   "source": []
  },
  {
   "cell_type": "markdown",
   "id": "3493b084-091b-47ba-8342-2c554777a619",
   "metadata": {},
   "source": [
    "### iii) Decompose the matrix"
   ]
  },
  {
   "cell_type": "code",
   "execution_count": 34,
   "id": "3cdd49c4-1ef6-41d4-b8f1-7f5515f0cccb",
   "metadata": {},
   "outputs": [],
   "source": [
    "# Using LU decomposition\n",
    "#Matrix X is decomposed into 2 matrices, lower triangular matrix, L and upper triangular matrix U and P for permutation(row swaps) if any. \n",
    "#using the scipy library\n",
    "import numpy as np\n",
    "from scipy.linalg import lu \n",
    "\n",
    "P, L, U = lu(X)"
   ]
  },
  {
   "cell_type": "code",
   "execution_count": 35,
   "id": "751815cd-6491-48ca-91bd-0b2602535710",
   "metadata": {},
   "outputs": [
    {
     "name": "stdout",
     "output_type": "stream",
     "text": [
      "Lower Triangular Matrix \n",
      "\n",
      "[[1.         0.         0.        ]\n",
      " [0.2        1.         0.        ]\n",
      " [0.5        0.72916667 1.        ]]\n"
     ]
    }
   ],
   "source": [
    "print('Lower Triangular Matrix \\n')\n",
    "\n",
    "print(L)"
   ]
  },
  {
   "cell_type": "code",
   "execution_count": 36,
   "id": "32542d4f-ef2d-4cc6-99a9-0d0e409d327b",
   "metadata": {},
   "outputs": [
    {
     "name": "stdout",
     "output_type": "stream",
     "text": [
      "Permutation matrix \n",
      "\n",
      "[[1. 0. 0.]\n",
      " [0. 1. 0.]\n",
      " [0. 0. 1.]]\n"
     ]
    }
   ],
   "source": [
    "print('Permutation matrix \\n')\n",
    "print(P)"
   ]
  },
  {
   "cell_type": "code",
   "execution_count": 37,
   "id": "c787ee91-4eec-40d2-90f2-edc61be9e865",
   "metadata": {},
   "outputs": [
    {
     "name": "stdout",
     "output_type": "stream",
     "text": [
      "Upper Triangular Matrix \n",
      "\n",
      "[[1.         0.2        0.5       ]\n",
      " [0.         0.96       0.7       ]\n",
      " [0.         0.         0.23958333]]\n"
     ]
    }
   ],
   "source": [
    "print('Upper Triangular Matrix \\n')\n",
    "print(U)"
   ]
  },
  {
   "cell_type": "markdown",
   "id": "d5ce3519-9264-48ff-803f-394a8dd1f394",
   "metadata": {},
   "source": [
    "### iv) Transform the matrix"
   ]
  },
  {
   "cell_type": "code",
   "execution_count": 38,
   "id": "9c1e7bb4-3210-418d-b06f-0874238ed373",
   "metadata": {},
   "outputs": [
    {
     "name": "stdout",
     "output_type": "stream",
     "text": [
      "Matrix X scaled by 5: \n",
      "\n",
      "[[5.  1.  2.5]\n",
      " [1.  5.  4. ]\n",
      " [2.5 4.  5. ]]\n"
     ]
    }
   ],
   "source": [
    "#scalar multiplication of the original by 5\n",
    "# Scalar multiplication by 2\n",
    "scaled_X = X * 5\n",
    "print(\"Matrix X scaled by 5: \\n\")\n",
    "print(scaled_X)"
   ]
  },
  {
   "cell_type": "code",
   "execution_count": null,
   "id": "489a0168-f9ba-48f8-a5c0-74bade4c5d9c",
   "metadata": {},
   "outputs": [],
   "source": []
  },
  {
   "cell_type": "code",
   "execution_count": 39,
   "id": "13978f63-dc28-442c-b7c1-42073a9e9bef",
   "metadata": {},
   "outputs": [
    {
     "name": "stdout",
     "output_type": "stream",
     "text": [
      "[[1.29 0.8  1.16]\n",
      " [0.8  1.68 1.7 ]\n",
      " [1.16 1.7  1.89]]\n"
     ]
    }
   ],
   "source": [
    "#Dot multiplication with the matrix itself\n",
    "New_matrix_X = np.dot(X, X)\n",
    "\n",
    "print(New_matrix_X)"
   ]
  }
 ],
 "metadata": {
  "kernelspec": {
   "display_name": "Python 3 (ipykernel)",
   "language": "python",
   "name": "python3"
  },
  "language_info": {
   "codemirror_mode": {
    "name": "ipython",
    "version": 3
   },
   "file_extension": ".py",
   "mimetype": "text/x-python",
   "name": "python",
   "nbconvert_exporter": "python",
   "pygments_lexer": "ipython3",
   "version": "3.12.6"
  }
 },
 "nbformat": 4,
 "nbformat_minor": 5
}
